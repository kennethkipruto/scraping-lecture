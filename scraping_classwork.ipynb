{
 "cells": [
  {
   "cell_type": "markdown",
   "id": "e3ababab-6188-446f-9484-26c9b9d25f01",
   "metadata": {
    "tags": []
   },
   "source": [
    "# Scraping classwork\n",
    "\n",
    "Steps we do only once\n",
    "- Create a folder to save HTML\n",
    "- Make dataframe for bills\n",
    "\n",
    "Steps to repeat in a `for` loop:\n",
    "- Request the URL\n",
    "- Save the HTML of the URL\n",
    "- Parse the page with bs4\n",
    "- Find and get what's inside `id='billTextContainer'`\n",
    "- Clean up the bill text\n",
    "  - Replace punctuation with space\n",
    "  - Replace newlines with space\n",
    "  - Replace multiple spaces with one space\n",
    "- Get the word count\n",
    "- Save the word count into the dataframe\n",
    "\n",
    "Finally, let's output the results of the dataframe to a csv."
   ]
  },
  {
   "cell_type": "code",
   "execution_count": 1,
   "id": "8a7854da-b462-47df-94d5-5eaaeef4d681",
   "metadata": {},
   "outputs": [],
   "source": [
    "import json\n",
    "import requests\n",
    "from bs4 import BeautifulSoup\n",
    "import re\n",
    "import string\n",
    "import pandas as pd\n",
    "import numpy as np\n",
    "from tqdm.notebook import tqdm"
   ]
  },
  {
   "cell_type": "markdown",
   "id": "f6954e1d-20f3-4b21-bf63-fe825d24a769",
   "metadata": {},
   "source": [
    "## Create `pages` folder to save HTML"
   ]
  },
  {
   "cell_type": "code",
   "execution_count": 2,
   "id": "dc22d333-ee0c-4073-9682-573fdcb896d2",
   "metadata": {},
   "outputs": [],
   "source": [
    "!mkdir -p pages"
   ]
  },
  {
   "cell_type": "markdown",
   "id": "ae66880f-539d-44c1-93b1-31198b6bbd6e",
   "metadata": {},
   "source": [
    "## Import bills data"
   ]
  },
  {
   "cell_type": "code",
   "execution_count": 3,
   "id": "4e4228f4-0173-44e3-ab86-df6bb088795c",
   "metadata": {},
   "outputs": [],
   "source": [
    "with open('bills.json') as file:\n",
    "    bills = json.load(file)"
   ]
  },
  {
   "cell_type": "markdown",
   "id": "0456f771-eb6d-4914-94fe-427ccd33dbd1",
   "metadata": {},
   "source": [
    "## Create dataframe"
   ]
  },
  {
   "cell_type": "code",
   "execution_count": null,
   "id": "b5ad088c-d68b-459d-88c1-b729bbd4ebac",
   "metadata": {},
   "outputs": [],
   "source": [
    "bills_df = pd.DataFrame(bills)\n",
    "bills_df['word_count'] = np.nan\n",
    "bills_df"
   ]
  },
  {
   "cell_type": "markdown",
   "id": "32878cab-c7ee-4f4d-9354-1a05a07bb0aa",
   "metadata": {},
   "source": [
    "## Scrape and parse `bills`"
   ]
  },
  {
   "cell_type": "code",
   "execution_count": null,
   "id": "bb764c8e-81b5-4989-a968-e7be01bc04d9",
   "metadata": {},
   "outputs": [],
   "source": [
    "punctuation_table = str.maketrans({key: ' ' for key in string.punctuation})"
   ]
  },
  {
   "cell_type": "code",
   "execution_count": null,
   "id": "e49ec5ac-c97e-4440-8317-2a28b0a3884d",
   "metadata": {},
   "outputs": [],
   "source": [
    "for bill in tqdm(bills):\n",
    "    bill_url = bill['bill_url']\n",
    "    bill_number = bill['bill_number']\n",
    "    \n",
    "    # Request the URL\n",
    "    \n",
    "    # Save the HTML of the URL\n",
    "    \n",
    "    # Parse the page with bs4\n",
    "    \n",
    "    # Find and get what's inside `id='billTextContainer'`\n",
    "    \n",
    "    # Clean up the bill text\n",
    "    \n",
    "    # Replace punctuation with space\n",
    "    \n",
    "    # Replace newlines with space\n",
    "    \n",
    "    # Replace multiple spaces with one space\n",
    "    \n",
    "    # Get the word count\n",
    "    \n",
    "    # Save the word count into the dataframe\n"
   ]
  },
  {
   "cell_type": "markdown",
   "id": "779d48b0-ffbe-47a3-a39c-1209d0ae5f41",
   "metadata": {},
   "source": [
    "## Export the data"
   ]
  },
  {
   "cell_type": "code",
   "execution_count": null,
   "id": "8b348166-8819-4eac-8a9f-00514ce7014c",
   "metadata": {},
   "outputs": [],
   "source": [
    "bills_df.to_csv('bills.csv', index=False)"
   ]
  }
 ],
 "metadata": {
  "kernelspec": {
   "display_name": "Python 3 (ipykernel)",
   "language": "python",
   "name": "python3"
  },
  "language_info": {
   "codemirror_mode": {
    "name": "ipython",
    "version": 3
   },
   "file_extension": ".py",
   "mimetype": "text/x-python",
   "name": "python",
   "nbconvert_exporter": "python",
   "pygments_lexer": "ipython3",
   "version": "3.8.5"
  }
 },
 "nbformat": 4,
 "nbformat_minor": 5
}
