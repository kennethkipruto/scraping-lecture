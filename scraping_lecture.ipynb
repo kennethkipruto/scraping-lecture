{
 "cells": [
  {
   "cell_type": "markdown",
   "id": "a64e20e3-61de-49c5-8326-89d2b8f5dba7",
   "metadata": {},
   "source": [
    "# Scraping lecture\n",
    "\n",
    "We have some information about pages we want to scrape in a file called `bills.json`. The ultimate goal is to download the full text of each bill and count the number of words."
   ]
  },
  {
   "cell_type": "markdown",
   "id": "7c176b96-1c58-44a4-b0f0-0d3c50c9d907",
   "metadata": {},
   "source": [
    "## Import modules"
   ]
  },
  {
   "cell_type": "code",
   "execution_count": 1,
   "id": "a9e21e3f-d2d7-47b7-8327-b0b3d7d1900a",
   "metadata": {},
   "outputs": [],
   "source": [
    "# parse json file\n",
    "import json\n",
    "\n",
    "# what we need for scraping\n",
    "import requests # request HTTP\n",
    "from bs4 import BeautifulSoup # parse HTML\n",
    "\n",
    "# helpful modules for cleaning up text\n",
    "import re\n",
    "import string\n",
    "\n",
    "# good ole pandas to structure our data\n",
    "import pandas as pd"
   ]
  },
  {
   "cell_type": "markdown",
   "id": "8cdbffaf-0b7b-4053-b182-58c77eeac5f5",
   "metadata": {},
   "source": [
    "## Bring in the data"
   ]
  },
  {
   "cell_type": "code",
   "execution_count": 2,
   "id": "a0f761fd-58c6-43df-809d-b20fe41823d5",
   "metadata": {},
   "outputs": [],
   "source": [
    "with open('bills.json') as file:\n",
    "    bills = json.load(file)"
   ]
  },
  {
   "cell_type": "markdown",
   "id": "bfb4c04c-956b-4aa6-9433-cbbcd68b12a8",
   "metadata": {},
   "source": [
    "I've commented out the below code because a lot of text gets printed out; watch the lecture screen to view the results."
   ]
  },
  {
   "cell_type": "code",
   "execution_count": null,
   "id": "3d8efe38-4039-4022-9c17-dca4887f0723",
   "metadata": {},
   "outputs": [],
   "source": [
    "# # this is a way to 'pretty-print' a JSON file\n",
    "# print(json.dumps(bills, indent=2))"
   ]
  },
  {
   "cell_type": "markdown",
   "id": "20969a0b-ff7f-4578-a42f-857607981e02",
   "metadata": {},
   "source": [
    "## Start with a test page\n",
    "\n",
    "We'll start with the first item in the `bills` list."
   ]
  },
  {
   "cell_type": "code",
   "execution_count": 3,
   "id": "aa9f96df-d688-48c3-89c4-0828fcfb628f",
   "metadata": {},
   "outputs": [
    {
     "data": {
      "text/plain": [
       "{'congress': 116,\n",
       " 'chamber': 'house',\n",
       " 'bill_url': 'https://www.congress.gov/bill/116th-congress/house-bill/133/text?r=1&s=3',\n",
       " 'bill_number': 133}"
      ]
     },
     "execution_count": 3,
     "metadata": {},
     "output_type": "execute_result"
    }
   ],
   "source": [
    "test_bill = bills[0]\n",
    "test_bill"
   ]
  },
  {
   "cell_type": "markdown",
   "id": "d4d292ff-858c-473e-bee0-db74820cb466",
   "metadata": {},
   "source": [
    "Create a variable called `test_url` that gets the value of `bill_url` from `test_bill`:"
   ]
  },
  {
   "cell_type": "code",
   "execution_count": 4,
   "id": "3ce8df20-e458-41c1-8dd0-38f35196cb39",
   "metadata": {},
   "outputs": [
    {
     "data": {
      "text/plain": [
       "'https://www.congress.gov/bill/116th-congress/house-bill/133/text?r=1&s=3'"
      ]
     },
     "execution_count": 4,
     "metadata": {},
     "output_type": "execute_result"
    }
   ],
   "source": [
    "test_url = test_bill['bill_url']\n",
    "test_url"
   ]
  },
  {
   "cell_type": "markdown",
   "id": "a6b0623f-f3b0-41dd-9db8-e6c208494107",
   "metadata": {},
   "source": [
    "Before we download this page, let's look at the HTML and see if we can find where the bill exists in the HTML."
   ]
  },
  {
   "cell_type": "markdown",
   "id": "37b3956e-b32c-406d-9502-354e93dd704a",
   "metadata": {},
   "source": [
    "### Request the url"
   ]
  },
  {
   "cell_type": "code",
   "execution_count": 5,
   "id": "77449459-c01d-4e6c-9a9a-576f6b8b787e",
   "metadata": {},
   "outputs": [],
   "source": [
    "test_page = requests.get(test_url)"
   ]
  },
  {
   "cell_type": "markdown",
   "id": "762ba2e3-860e-499a-90ca-79b8005dcf9b",
   "metadata": {},
   "source": [
    "### Save the HTML so we don't have to re-download it later\n",
    "\n",
    "If you're going to scrape tens or hundreds or thousands of URLs, it could be helpful to save the HTML so you don't have to re-download thousands of pages later. I don't want to clutter up this coding folder so I'm going to create a new directory to save all these pages.\n",
    "\n",
    "One very cool thing about Jupyter notebooks is that you can execute some basic terminal commands by using an exclamation point. Below, I'm going to create a new directory called 'pages'. When you use the `-p` flag, you won't get an error if the directory already exists."
   ]
  },
  {
   "cell_type": "code",
   "execution_count": 6,
   "id": "33d2a791-5d96-40e3-afa7-07857ec0e8b5",
   "metadata": {},
   "outputs": [],
   "source": [
    "!mkdir -p pages"
   ]
  },
  {
   "cell_type": "markdown",
   "id": "5595eba8-80bc-4b2c-bd63-d75f569505c9",
   "metadata": {},
   "source": [
    "I included `pages` in your `.gitignore` file — that means it'll save on your hard drive but it won't be pushed to git."
   ]
  },
  {
   "cell_type": "code",
   "execution_count": 7,
   "id": "06ebb52e-6a74-40a9-adc6-6782fe7eccf1",
   "metadata": {},
   "outputs": [],
   "source": [
    "# save the test page so i don't have to dl again\n",
    "with open('pages/test_page.html', 'w') as f:\n",
    "    f.write(test_page.text)"
   ]
  },
  {
   "cell_type": "markdown",
   "id": "45133afc-c892-4a05-9cf9-3aa0ce84d5f7",
   "metadata": {},
   "source": [
    "### Parse the test page with Beautiful Soup\n",
    "\n",
    "We'll use Beautiful Soup's built-in html parser. This allows us to search for nested elements."
   ]
  },
  {
   "cell_type": "code",
   "execution_count": 8,
   "id": "552b657c-17b4-4f09-9c67-59b2f80612ac",
   "metadata": {},
   "outputs": [],
   "source": [
    "test_soup = BeautifulSoup(test_page.text, features='html.parser')"
   ]
  },
  {
   "cell_type": "markdown",
   "id": "a8033ad9-b3e2-449e-a5a5-abcd09c30616",
   "metadata": {},
   "source": [
    "_The following code is commented out because it outputs a LOT of text. Look at the screen during lecture to see what the output looks like._"
   ]
  },
  {
   "cell_type": "code",
   "execution_count": 9,
   "id": "67bcaeb1-6728-435b-aa0a-e86cfc9209ec",
   "metadata": {},
   "outputs": [],
   "source": [
    "# test_soup"
   ]
  },
  {
   "cell_type": "markdown",
   "id": "6e1de2d1-28ca-4e8c-8d52-8fe4516bf3eb",
   "metadata": {},
   "source": [
    "### Find and get what's inside `id='billTextContainer'`\n",
    "Because we know that all of a bill's text is contained within an element with the ID of 'billTextContainer', we can use bs4's `.find(id='')` method:"
   ]
  },
  {
   "cell_type": "code",
   "execution_count": 10,
   "id": "076feadb-21d2-4075-9004-56786d9a960b",
   "metadata": {},
   "outputs": [],
   "source": [
    "bill_text_container = test_soup.find(id='billTextContainer')"
   ]
  },
  {
   "cell_type": "markdown",
   "id": "ea9d15a7-fe10-415b-aa6b-dc69f350ea1d",
   "metadata": {},
   "source": [
    "Remember that the result is still a bs4 `type`:"
   ]
  },
  {
   "cell_type": "code",
   "execution_count": 11,
   "id": "05aaf141-884b-461a-aeb7-2338c1bed3da",
   "metadata": {},
   "outputs": [
    {
     "data": {
      "text/plain": [
       "bs4.element.Tag"
      ]
     },
     "execution_count": 11,
     "metadata": {},
     "output_type": "execute_result"
    }
   ],
   "source": [
    "type(bill_text_container)"
   ]
  },
  {
   "cell_type": "markdown",
   "id": "45fe1d7d-aabf-49ed-a40b-b6cc3b2e92df",
   "metadata": {},
   "source": [
    "_The following code is commented out because it outputs a LOT of text. Look at the screen during lecture to see what the output looks like._"
   ]
  },
  {
   "cell_type": "code",
   "execution_count": 12,
   "id": "80dce72e-c427-4d60-b691-fecdb1b18e0b",
   "metadata": {},
   "outputs": [],
   "source": [
    "# bill_text_container"
   ]
  },
  {
   "cell_type": "markdown",
   "id": "9f02c0c7-9637-4c2e-abfd-5ff0ef99cdfd",
   "metadata": {},
   "source": [
    "If we want to extract only the text, we'll use the bs4 method `.get_text()`:"
   ]
  },
  {
   "cell_type": "code",
   "execution_count": 15,
   "id": "e4a73264-6f96-4687-aa10-aebb1c25ca08",
   "metadata": {},
   "outputs": [],
   "source": [
    "bill_text = bill_text_container.get_text()"
   ]
  },
  {
   "cell_type": "markdown",
   "id": "1e59242f-fd73-4841-b6c5-eddc4cca606c",
   "metadata": {},
   "source": [
    "_The following code is commented out because it outputs a LOT of text. Look at the screen during lecture to see what the output looks like._"
   ]
  },
  {
   "cell_type": "code",
   "execution_count": 16,
   "id": "c8ef8dbd-c99f-4c0c-aa8f-52f93090aeb3",
   "metadata": {},
   "outputs": [],
   "source": [
    "# bill_text"
   ]
  },
  {
   "cell_type": "markdown",
   "id": "d2558702-b0d4-451c-8cbe-45dc4ed0b78c",
   "metadata": {},
   "source": [
    "What is the type of `bill_text`?"
   ]
  },
  {
   "cell_type": "code",
   "execution_count": 17,
   "id": "8330deca-0a50-45fc-9e5a-31a6094141c6",
   "metadata": {},
   "outputs": [
    {
     "data": {
      "text/plain": [
       "str"
      ]
     },
     "execution_count": 17,
     "metadata": {},
     "output_type": "execute_result"
    }
   ],
   "source": [
    "type(bill_text)"
   ]
  },
  {
   "cell_type": "code",
   "execution_count": 18,
   "id": "64c185c5-174f-4acd-8fde-1dc9120a5ff8",
   "metadata": {},
   "outputs": [
    {
     "data": {
      "text/plain": [
       "7692027"
      ]
     },
     "execution_count": 18,
     "metadata": {},
     "output_type": "execute_result"
    }
   ],
   "source": [
    "len(bill_text)"
   ]
  },
  {
   "cell_type": "markdown",
   "id": "4fb65c1c-4a11-494c-a99b-abbac4bee35f",
   "metadata": {
    "tags": []
   },
   "source": [
    "### Clean up `bill_text`\n",
    "\n",
    "The text is pretty messy. We want to:\n",
    "- replace punctuation with spaces\n",
    "- replace newlines with spaces (`\\n` means \"newline\")\n",
    "- replace 2+ spaces with 1 space"
   ]
  },
  {
   "cell_type": "markdown",
   "id": "afb95245-f08d-4e20-8aac-224847e0f643",
   "metadata": {},
   "source": [
    "#### Replace punctuation with space"
   ]
  },
  {
   "cell_type": "code",
   "execution_count": null,
   "id": "2d443173-2dd7-4fd9-80d4-02baf0e010dc",
   "metadata": {},
   "outputs": [],
   "source": [
    "# got the code from here: https://stackoverflow.com/a/37221663\n",
    "punctuation_table = str.maketrans({key: ' ' for key in string.punctuation})\n",
    "bill_text_cleaned = bill_text.translate(punctuation_table)  "
   ]
  },
  {
   "cell_type": "markdown",
   "id": "c6d7d3fe-6d75-4a5b-8c23-aa8cc637c086",
   "metadata": {},
   "source": [
    "Read more about these string methods in the Python documentation:\n",
    "\n",
    "- [str.maketrans()](https://docs.python.org/3.3/library/stdtypes.html#str.maketrans)\n",
    "- [str.translate()](https://docs.python.org/3.3/library/stdtypes.html#str.translate)"
   ]
  },
  {
   "cell_type": "markdown",
   "id": "a8527142-9858-44a6-9bea-2b5ed73abf7f",
   "metadata": {},
   "source": [
    "_The following code is commented out because it outputs a LOT of text. Look at the screen during lecture to see what the output looks like._"
   ]
  },
  {
   "cell_type": "code",
   "execution_count": null,
   "id": "a15c029a-2a14-44fd-be8e-62a67333217f",
   "metadata": {},
   "outputs": [],
   "source": [
    "# bill_text_cleaned"
   ]
  },
  {
   "cell_type": "markdown",
   "id": "257ffed2-cac8-4864-b918-5eeea24489e4",
   "metadata": {},
   "source": [
    "#### Replace newlines with space"
   ]
  },
  {
   "cell_type": "code",
   "execution_count": null,
   "id": "b97ea933-42f6-4a78-8362-ca599176f606",
   "metadata": {},
   "outputs": [],
   "source": [
    "bill_text_cleaned = re.sub('\\\\n', ' ', bill_text_cleaned)"
   ]
  },
  {
   "cell_type": "code",
   "execution_count": null,
   "id": "47c64ce2-9e70-45bd-947f-f81dcfd3d11e",
   "metadata": {},
   "outputs": [],
   "source": [
    "# bill_text_cleaned"
   ]
  },
  {
   "cell_type": "markdown",
   "id": "a1cdf51f-accf-4e79-97cc-36f1f2dd5fe8",
   "metadata": {},
   "source": [
    "#### Replace multiple spaces with one space"
   ]
  },
  {
   "cell_type": "code",
   "execution_count": null,
   "id": "58a485f7-efe0-48fd-8a7b-cf796e917910",
   "metadata": {},
   "outputs": [],
   "source": [
    "bill_text_cleaned = re.sub('\\s{2,}', ' ', bill_text_cleaned)"
   ]
  },
  {
   "cell_type": "code",
   "execution_count": null,
   "id": "6fff1859-8244-439f-8d85-f406f30ab140",
   "metadata": {},
   "outputs": [],
   "source": [
    "# bill_text_cleaned"
   ]
  },
  {
   "cell_type": "markdown",
   "id": "2e2a59ba-e921-4518-bd56-b11ab6e4a48f",
   "metadata": {},
   "source": [
    "What are some problems you see in the final `bill_text_cleaned`? Do you think it's OK for the purposes of this project?"
   ]
  },
  {
   "cell_type": "markdown",
   "id": "1e26e885-399b-4e05-a60d-8bacd6d1f610",
   "metadata": {},
   "source": [
    "### Word count\n",
    "\n",
    "#### Get the word count\n",
    "\n",
    "You can get the word count of a string by splitting the string. By default `str.split()` will by split on spaces. Then, you are left with a list of words. The length of the list, or `len()` is how many words you have in the string."
   ]
  },
  {
   "cell_type": "code",
   "execution_count": null,
   "id": "affe8762-7ec7-47f9-b83a-3be120cca9de",
   "metadata": {},
   "outputs": [],
   "source": [
    "bill_word_count = len(bill_text_cleaned.split())"
   ]
  },
  {
   "cell_type": "code",
   "execution_count": null,
   "id": "e60be4d6-d24d-497d-9be1-a03ee5e44622",
   "metadata": {},
   "outputs": [],
   "source": [
    "bill_word_count"
   ]
  },
  {
   "cell_type": "markdown",
   "id": "a1e53115-e901-4245-bc2a-387ce5337f07",
   "metadata": {},
   "source": [
    "\n",
    "#### Create the dataframe\n",
    "\n",
    "Let's make a pandas dataframe where we can save the word count.\n",
    "\n",
    "The neat thing about `bills` is that it's already structured in a way that makes it very easy to create a dataframe. It's a list of dictionaries that only have one level. (If this doesn't sound familiar to you, you might want to brush up on [lists and dictionaries in the Python documentation](https://docs.python.org/3/tutorial/datastructures.html).)"
   ]
  },
  {
   "cell_type": "code",
   "execution_count": null,
   "id": "497cc5ac-771d-45f2-bbfb-52713f7ac831",
   "metadata": {},
   "outputs": [],
   "source": [
    "bills_df = pd.DataFrame(bills)\n",
    "bills_df"
   ]
  },
  {
   "cell_type": "markdown",
   "id": "625b4a76-33ba-4476-a651-5d05f03daba5",
   "metadata": {},
   "source": [
    "##### Create a new column, method 1"
   ]
  },
  {
   "cell_type": "code",
   "execution_count": null,
   "id": "578db9b7-62c6-4f40-b34c-a9ecb1509745",
   "metadata": {},
   "outputs": [],
   "source": [
    "new_columns = list(bills_df.columns) + ['word_count']\n",
    "new_columns"
   ]
  },
  {
   "cell_type": "code",
   "execution_count": null,
   "id": "b60a7227-fb1d-4799-96b0-7b9f49d596be",
   "metadata": {},
   "outputs": [],
   "source": [
    "bills_df = bills_df.reindex(columns=list(bills_df.columns) + ['word_count'])"
   ]
  },
  {
   "cell_type": "code",
   "execution_count": null,
   "id": "1dc7df3c-32dd-44cf-828a-9bb528ca7f2a",
   "metadata": {},
   "outputs": [],
   "source": [
    "bills_df"
   ]
  },
  {
   "cell_type": "markdown",
   "id": "ef4aadfb-f310-418b-af93-0e51591fd24d",
   "metadata": {},
   "source": [
    "##### Create a new column, method 2\n",
    "You need to `import numpy as np` for this but it's easier!"
   ]
  },
  {
   "cell_type": "code",
   "execution_count": null,
   "id": "7dd366b1-da18-4d11-9101-6796f130c04f",
   "metadata": {},
   "outputs": [],
   "source": [
    "import numpy as np\n",
    "bills_df['word_count'] = np.nan"
   ]
  },
  {
   "cell_type": "code",
   "execution_count": null,
   "id": "7ae7703c-6fe6-47aa-b834-b6737e10dab1",
   "metadata": {},
   "outputs": [],
   "source": [
    "bills_df"
   ]
  },
  {
   "cell_type": "markdown",
   "id": "86a59979-0f20-474f-be32-17ccfef5d988",
   "metadata": {},
   "source": [
    "#### Save the word count\n",
    "\n",
    "How do I update Bill 133's 'word_count'? \n",
    "\n",
    "You'll use `df.loc`:\n",
    "\n",
    "```python\n",
    "df.loc[subset_expression, 'column_to_change'] = new_value\n",
    "```\n",
    "In effect, you're subsetting the dataframe and applying a value to a column.\n",
    "\n",
    "In the below code, we subset for rows where 'bill_number' is 133: `bills_df['bill_number'] == 133`\n"
   ]
  },
  {
   "cell_type": "code",
   "execution_count": null,
   "id": "7cf05adb-db5e-4b29-9aa7-ee1b47b62073",
   "metadata": {},
   "outputs": [],
   "source": [
    "bills_df.loc[bills_df['bill_number'] == 133, 'word_count'] = bill_word_count"
   ]
  },
  {
   "cell_type": "code",
   "execution_count": null,
   "id": "0bb043ff-42ad-4d92-bb35-8719879c2449",
   "metadata": {},
   "outputs": [],
   "source": [
    "bills_df[bills_df['bill_number'] == 133]"
   ]
  },
  {
   "cell_type": "code",
   "execution_count": null,
   "id": "846e3cba-8465-47b2-8b61-51ef6343c7a1",
   "metadata": {},
   "outputs": [],
   "source": [
    "bills_df"
   ]
  },
  {
   "cell_type": "markdown",
   "id": "cf94a0ac-a9f7-4fd5-8192-279bb85ad4fa",
   "metadata": {},
   "source": [
    "## Time for a loop\n",
    "\n",
    "We wrote all the code for ONE test page. But we have more than one item in `bills`."
   ]
  },
  {
   "cell_type": "markdown",
   "id": "b4f44380-2bf3-447a-9881-f8f4c9480ba6",
   "metadata": {},
   "source": [
    "### How do we loop through bills?"
   ]
  },
  {
   "cell_type": "code",
   "execution_count": null,
   "id": "c7f60443-405a-4f83-ab7a-a2fe4f1ff827",
   "metadata": {},
   "outputs": [],
   "source": [
    "for bill in bills:\n",
    "    pass\n",
    "    # print(bill)"
   ]
  },
  {
   "cell_type": "markdown",
   "id": "a93f94a4-2b5d-4993-be3c-b94e74f3d7ab",
   "metadata": {},
   "source": [
    "At this point, it'll be useful to check out the Table of Contents of this notebook in Lab. What are the steps we need to take?\n",
    "\n",
    "- Request the URL\n",
    "- Save the HTML of the URL\n",
    "- Parse the page with bs4\n",
    "- Find and get what's inside `id='billTextContainer'`\n",
    "- Clean up the bill text\n",
    "  - Replace punctuation with space\n",
    "  - Replace newlines with space\n",
    "  - Replace multiple spaces into one space\n",
    "- Get the word count\n",
    "- Save the word count in the dataframe\n",
    "\n",
    "We're going to switch up a couple things though. The following steps only need to be done once, so they should be executed BEFORE we go through the loop.\n",
    "- Create the folder for saving all the HTML\n",
    "- Create the dataframe to save all the information\n",
    "\n",
    "We'll write the loop in a new notebook for classwork: [`scraping_classwork.ipynb`](scraping_classwork.ipynb).\n",
    "\n",
    "But before we do, I want to introduce you to another Python module that is really helpful when you're scraping: `tqdm`."
   ]
  },
  {
   "cell_type": "markdown",
   "id": "5ba1fa86-6a68-4210-afb6-f4c8259de298",
   "metadata": {},
   "source": [
    "## tqdm\n",
    "\n",
    "You can wrap `tqdm()` around any iterable (list, array, etc.) to create a progress bar."
   ]
  },
  {
   "cell_type": "code",
   "execution_count": null,
   "id": "fd038cc9-d0ab-44b3-9bd9-71adfd500bdb",
   "metadata": {},
   "outputs": [],
   "source": [
    "from tqdm.notebook import tqdm\n",
    "from time import sleep # this module just helps us visualize a delay"
   ]
  },
  {
   "cell_type": "code",
   "execution_count": null,
   "id": "41880fd2-ce6e-4713-9df5-dfbc3410cd52",
   "metadata": {},
   "outputs": [],
   "source": [
    "for n in tqdm(range(20)):\n",
    "    sleep(0.2)"
   ]
  }
 ],
 "metadata": {
  "kernelspec": {
   "display_name": "Python 3 (ipykernel)",
   "language": "python",
   "name": "python3"
  },
  "language_info": {
   "codemirror_mode": {
    "name": "ipython",
    "version": 3
   },
   "file_extension": ".py",
   "mimetype": "text/x-python",
   "name": "python",
   "nbconvert_exporter": "python",
   "pygments_lexer": "ipython3",
   "version": "3.8.5"
  }
 },
 "nbformat": 4,
 "nbformat_minor": 5
}
